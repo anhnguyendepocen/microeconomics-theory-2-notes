{
 "metadata": {
  "language_info": {
   "codemirror_mode": {
    "name": "ipython",
    "version": 3
   },
   "file_extension": ".py",
   "mimetype": "text/x-python",
   "name": "python",
   "nbconvert_exporter": "python",
   "pygments_lexer": "ipython3",
   "version": "3.8.5"
  },
  "orig_nbformat": 2,
  "kernelspec": {
   "name": "python3",
   "display_name": "Python 3",
   "language": "python"
  }
 },
 "nbformat": 4,
 "nbformat_minor": 2,
 "cells": [
  {
   "source": [
    "### Topic 1: Akerlof Lemon Market:"
   ],
   "cell_type": "markdown",
   "metadata": {}
  },
  {
   "source": [
    "#### Selling a used car:\n",
    "* Quality of the car: $v \\in [0,1]$\n",
    "    * Buyer: The car is worth $v$.\n",
    "    * Seller: The car is worth $f(v)$.\n",
    " "
   ],
   "cell_type": "markdown",
   "metadata": {}
  },
  {
   "source": [
    "#### When information is symmetric:\n",
    "\n",
    "When no trade:\n",
    "* Buyer gets 0.\n",
    "* Seller gets $f(v)$.\n",
    "\n",
    "When trade at price $p$,\n",
    "* Buyer gets $v-p$. (*ass: quasilinear preference*)\n",
    "* Seller gets $p$.\n",
    "\n",
    "Hence, the trade is always required at $p \\in [f(v),v]$ and the trade is always <mark>Pareto improving</mark>."
   ],
   "cell_type": "markdown",
   "metadata": {}
  },
  {
   "source": [
    "#### When information is assymetric:\n",
    "\n",
    "Now $v$ is a R.V. and is assumed to follow uniform distribution. When trade at price $p$,\n",
    "* Buyer gets $E[v]-p$.\n",
    "* Seller gets $p$.\n",
    "\n",
    "$v$ is seller's <mark>type</mark> (revealing some information of product quality)."
   ],
   "cell_type": "markdown",
   "metadata": {}
  },
  {
   "source": [
    "__Game 1: Buyers make the offer:__\n",
    "* Offer made at price $p$.\n",
    "* Seller accepts:\n",
    "    * Buyer gets $E[v-p]$.\n",
    "    * Seller gets $p$.\n",
    "* Seller rejects:\n",
    "    * Buyer gets $0$.\n",
    "    * Seller gets $f(v)$."
   ],
   "cell_type": "markdown",
   "metadata": {}
  },
  {
   "source": [
    "__Obs. 1: Seller accepts iff $f(v) \\leq p$.__\n",
    "\n",
    "Seller's type $v \\leq f^{-1}(p)$, implying the car is not too great (a lemon as opposed to a peach).\n",
    "\n",
    "$\\Rightarrow$ <mark>Adverse selection:</mark> transaction is possible only when it is of an “inferior” quality. (e.g. health insurance, when people are buying insurance mostly when they are aware of some health problems)."
   ],
   "cell_type": "markdown",
   "metadata": {}
  },
  {
   "source": [
    "__Obs. 2: Buyer would not offer $p > \\bar{p}:=f(1)$.__\n",
    "\n",
    "The payoff to seller $p-f(v)$ is always positive regardless of $v$, hence buyer always pays more than he should.\n",
    "\n",
    "Offering $p > \\bar{p}$ is a dominated strategy."
   ],
   "cell_type": "markdown",
   "metadata": {}
  },
  {
   "source": [
    "__Obs. 3: By offering a price p, buyer's expected payoff is $$U(p)=f^{-1}(p)(\\frac{1}{2}f^{-1}(p)-p)$$__\n",
    "\n",
    "*Proof:*\n",
    "$$U(p)=E[v-p]=Pr(trade|p)E[v-p|p]=f^{-1}(p)(\\frac{1}{2}f^{-1}(p)-p)$$\n",
    "Since when $v < f^{-1}(p)$, then trade can happen and $v$ is assumed to be uniformly distributed.\n",
    "\n",
    "Equivalently,\n",
    "$$U(p)=\\int_0^{f^{-1}(p)}(v-p)dv$$"
   ],
   "cell_type": "markdown",
   "metadata": {}
  },
  {
   "source": [
    "**PBE.** $p^*$ is an EQ offer iff $p^* \\in max_{p \\in [0,\\bar{p}]}U(p)$.\n",
    "\n",
    "1. No trade: when $U(p) < 0$ for all $p \\ in (0,\\bar{p}]$, there is a UNIQUE PBE:\n",
    "    * Buyer offers $p=0$.\n",
    "    * Seller has no trade option.\n",
    "    * Pr of trade is 0.\n",
    "    * Example: $f(v)=\\alpha v$ where $\\alpha \\in (1/2,1)$, then \n",
    "    $$U(p)=(1-2\\alpha)\\frac{p^2}{2\\alpha^2}<0 \\quad \\forall p>0 $$\n",
    "    $v \\leq p/\\alpha$ suggests the seller are more likely to take the offer when $\\alpha$ is small, which means the quality is low. **Only losers would accept offer.** Adverse selection is working.\n",
    "        "
   ],
   "cell_type": "markdown",
   "metadata": {}
  },
  {
   "source": [
    "2. Occational trade: when $U(p) > 0$ for some $p \\ in (0,\\bar{p}]$, there can be one/multiple PBE:\n",
    "    * Buyer offers $p^*>0$.\n",
    "    * Seller accepts the trade iff $v \\leq f^{-1}(p^*)$.\n",
    "    * Pr of trade is $f^{-1}(p^*)$.\n",
    "    * Example: $f(v)=v^2/2$, then $\\bar{p} = 1/2$ and \n",
    "    $$U(p)=p(1-\\sqrt{2p})$$\n",
    "    From the plot below, easy to see $p^*$ is around 0.22 and Pr of trade is $f^{-1}(p^*) \\in (0,1)$, meaning not all trades will be accepted by seller. Hence, there are some inefficiency."
   ],
   "cell_type": "markdown",
   "metadata": {}
  },
  {
   "cell_type": "code",
   "execution_count": 2,
   "metadata": {},
   "outputs": [
    {
     "output_type": "error",
     "ename": "ModuleNotFoundError",
     "evalue": "No module named 'matplotlib'",
     "traceback": [
      "\u001b[1;31m---------------------------------------------------------------------------\u001b[0m",
      "\u001b[1;31mModuleNotFoundError\u001b[0m                       Traceback (most recent call last)",
      "\u001b[1;32m<ipython-input-2-081758dc5c93>\u001b[0m in \u001b[0;36m<module>\u001b[1;34m\u001b[0m\n\u001b[1;32m----> 1\u001b[1;33m \u001b[1;32mimport\u001b[0m \u001b[0mmatplotlib\u001b[0m\u001b[1;33m.\u001b[0m\u001b[0mpyplot\u001b[0m \u001b[1;32mas\u001b[0m \u001b[0mplt\u001b[0m\u001b[1;33m\u001b[0m\u001b[1;33m\u001b[0m\u001b[0m\n\u001b[0m\u001b[0;32m      2\u001b[0m \u001b[1;32mimport\u001b[0m \u001b[0mnumpy\u001b[0m \u001b[1;32mas\u001b[0m \u001b[0mnp\u001b[0m\u001b[1;33m\u001b[0m\u001b[1;33m\u001b[0m\u001b[0m\n\u001b[0;32m      3\u001b[0m \u001b[0mp\u001b[0m \u001b[1;33m=\u001b[0m \u001b[0mnp\u001b[0m\u001b[1;33m.\u001b[0m\u001b[0marange\u001b[0m\u001b[1;33m(\u001b[0m\u001b[1;36m0\u001b[0m\u001b[1;33m,\u001b[0m \u001b[1;36m0.5\u001b[0m\u001b[1;33m,\u001b[0m \u001b[1;36m0.01\u001b[0m\u001b[1;33m)\u001b[0m\u001b[1;33m\u001b[0m\u001b[1;33m\u001b[0m\u001b[0m\n\u001b[0;32m      4\u001b[0m \u001b[0mU\u001b[0m \u001b[1;33m=\u001b[0m \u001b[0mp\u001b[0m\u001b[1;33m*\u001b[0m\u001b[1;33m(\u001b[0m\u001b[1;36m1\u001b[0m\u001b[1;33m-\u001b[0m\u001b[0mnp\u001b[0m\u001b[1;33m.\u001b[0m\u001b[0msqrt\u001b[0m\u001b[1;33m(\u001b[0m\u001b[1;36m2\u001b[0m\u001b[1;33m*\u001b[0m\u001b[0mp\u001b[0m\u001b[1;33m)\u001b[0m\u001b[1;33m)\u001b[0m\u001b[1;33m\u001b[0m\u001b[1;33m\u001b[0m\u001b[0m\n\u001b[0;32m      5\u001b[0m \u001b[0mplt\u001b[0m\u001b[1;33m.\u001b[0m\u001b[0mplot\u001b[0m\u001b[1;33m(\u001b[0m\u001b[0mp\u001b[0m\u001b[1;33m,\u001b[0m \u001b[0mU\u001b[0m\u001b[1;33m)\u001b[0m\u001b[1;33m\u001b[0m\u001b[1;33m\u001b[0m\u001b[0m\n",
      "\u001b[1;31mModuleNotFoundError\u001b[0m: No module named 'matplotlib'"
     ]
    }
   ],
   "source": [
    "import matplotlib.pyplot as plt\n",
    "import numpy as np\n",
    "p = np.arange(0, 0.5, 0.01) \n",
    "U = p*(1-np.sqrt(2*p))\n",
    "plt.plot(p, U) \n",
    "plt.xlabel('p') \n",
    "plt.ylabel('U(p)')\n",
    "plt.grid()\n",
    "plt.savefig('figure1.png')  \n",
    "plt.show()\n"
   ]
  },
  {
   "source": [
    "3. Always trade: $\\bar{p}$ is exactly $p^*$.\n",
    "    * Buyer will make the offer and seller will accept.\n",
    "    * Necessary condition: $\\bar{p} \\leq \\frac{1}{2}f^{-1}(\\bar{p}) \\leq \\frac{1}{2}$. Even the best car will not be worth more than $1/2$ to seller.\n",
    "    * Example: $f(v)=\\alpha v$ where $\\alpha \\in [0,1/2)$, then \n",
    "    $$U(p)=(1-2\\alpha)\\frac{p^2}{2\\alpha^2}>0 \\quad \\forall p>0 $$\n",
    "    , and is increaing in $p$, suggesting $p^*=\\bar{p}=\\alpha$.\n",
    "    Small $\\alpha$ means seller does not value the car much, hence is willing to accept a low price. Buyer will offer a highest reasonable (lower than $\\alpha$) price to get the best quality car."
   ],
   "cell_type": "markdown",
   "metadata": {}
  },
  {
   "source": [
    "__Game 1 Summary:__\n",
    "* Information asymmetry can lead to \"market failure\":\n",
    "    * Adverse selection is at work.\n",
    "    * Ineffiency may happen."
   ],
   "cell_type": "markdown",
   "metadata": {}
  },
  {
   "source": [
    "__Game 2: Seller makes the offer.__\n",
    "* Offer made at price $p$.\n",
    "* Buyer accepts:\n",
    "    * Buyer gets $E[v-p]$.\n",
    "    * Seller gets $p$.\n",
    "* Buyer rejects:\n",
    "    * Buyer gets $0$.\n",
    "    * Seller gets $f(v)$."
   ],
   "cell_type": "markdown",
   "metadata": {}
  },
  {
   "source": [
    "__Obs. 1: All types($v$) of seller succeed in selling the car will offer the **same** price $p^*$.__\n",
    "\n",
    "Suppose $p$ (type $v$) and $p' < p$ (type $v'$) will be all accepted by the buyer, buyer will deviate to a higher price $p$. Then, all types of seller will end in the game of offering the same price (the highest price that the buyer will accept)."
   ],
   "cell_type": "markdown",
   "metadata": {}
  },
  {
   "source": [
    "__Obs. 2: If trade happens at EQ (price at $p^*$), then seller offers $p^*$ iff $f(v) \\leq p^*$.__"
   ],
   "cell_type": "markdown",
   "metadata": {}
  },
  {
   "source": [
    "__Obs. 3: $U(p^*) \\geq 0$.__"
   ],
   "cell_type": "markdown",
   "metadata": {}
  },
  {
   "source": [
    "**PBE.** $p^*$ is an EQ offer when $U(p^*) \\geq 0$ and $f(v) \\leq p^*$.\n",
    "\n",
    "1. No trade: for all $p \\in (0,p^*)$, $U(p) < 0$.\n",
    "2. Some trades: for some $p \\in (0,p^*)$, $U(p) \\geq 0$. Then offering a price $p^*$ where $U(p^*) \\geq 0$ is a PBE. \n",
    "When $f(v) \\leq p^*$, trade happens ($p^* < \\bar{p}$). \n",
    "3. All trades: If $U(\\bar{p}) \\geq 0$, trade always happens at $p^*=\\bar{p}$."
   ],
   "cell_type": "markdown",
   "metadata": {}
  },
  {
   "source": [
    "__Game 2 Summary:__\n",
    "* \"Market failure\" is less serious:\n",
    "    * Available trades under buyer-offering game is always available in seller-offering case. Seller-offering game may have more trades.\n",
    "    * Pareto efficiency is easier to get.\n",
    "* The highest probability of trade:\n",
    "$$\\pi = max\\{p \\in [0,1/2]:U(p) \\geq 0 \\}$$"
   ],
   "cell_type": "markdown",
   "metadata": {}
  },
  {
   "cell_type": "code",
   "execution_count": null,
   "metadata": {},
   "outputs": [],
   "source": []
  }
 ]
}